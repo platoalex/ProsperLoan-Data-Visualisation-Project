{
 "cells": [
  {
   "cell_type": "markdown",
   "metadata": {
    "slideshow": {
     "slide_type": "slide"
    }
   },
   "source": [
    "# Part II - ProsperLoan Data Exploration\n",
    "## Alex Akaolisah"
   ]
  },
  {
   "cell_type": "markdown",
   "metadata": {
    "slideshow": {
     "slide_type": "slide"
    }
   },
   "source": [
    "## Investigation Overview\n",
    "\n",
    "\n",
    "> The Prosper Rating and prosper scores for Borrowers are very vital to the borrowing and lending dynamics as expressed in the reviewd data. Lenders had more confidence on Borrowers who had high prosper ratings and high prosper scores hence they could borrow  higher sums at lower interest rates (Borrowerrate). This means that Lenders were willing to take lower yield from loans given to high-rating borrowers\n",
    "\n",
    "\n",
    "## Dataset Overview\n",
    "\n",
    ">The [dataset](https://www.kaggle.com/datasets/barun2104/telecom-churn) provided by udacity consists of 113937 rows and 81 columns of loan data.This corresponds to 113,937 loans with 81 variables on each loan, including loan amount, borrower rate (or interest rate), current loan status, borrower income, and many others.\n",
    "This data [dictionary](https://www.google.com/url?q=https://docs.google.com/spreadsheet/ccc?key%3D0AllIqIyvWZdadDd5NTlqZ1pBMHlsUjdrOTZHaVBuSlE%26usp%3Dsharing&sa=D&ust=1554486256024000) explains the variables in the data set.\n",
    "The dataset however was reduced to a dataframe of 84881 rows and 32 columns carefully chosen for the exploration"
   ]
  },
  {
   "cell_type": "code",
   "execution_count": 1,
   "metadata": {
    "slideshow": {
     "slide_type": "skip"
    }
   },
   "outputs": [],
   "source": [
    "# import all packages and set plots to be embedded inline\n",
    "import numpy as np\n",
    "import pandas as pd\n",
    "import matplotlib.pyplot as plt\n",
    "import seaborn as sb\n",
    "\n",
    "%matplotlib inline\n",
    "\n",
    "# suppress warnings from final output\n",
    "import warnings\n",
    "warnings.simplefilter(\"ignore\")"
   ]
  },
  {
   "cell_type": "code",
   "execution_count": 6,
   "metadata": {
    "slideshow": {
     "slide_type": "skip"
    }
   },
   "outputs": [
    {
     "data": {
      "text/html": [
       "<div>\n",
       "<style scoped>\n",
       "    .dataframe tbody tr th:only-of-type {\n",
       "        vertical-align: middle;\n",
       "    }\n",
       "\n",
       "    .dataframe tbody tr th {\n",
       "        vertical-align: top;\n",
       "    }\n",
       "\n",
       "    .dataframe thead th {\n",
       "        text-align: right;\n",
       "    }\n",
       "</style>\n",
       "<table border=\"1\" class=\"dataframe\">\n",
       "  <thead>\n",
       "    <tr style=\"text-align: right;\">\n",
       "      <th></th>\n",
       "      <th>ListingKey</th>\n",
       "      <th>ListingCreationDate</th>\n",
       "      <th>Term</th>\n",
       "      <th>LoanStatus</th>\n",
       "      <th>BorrowerAPR</th>\n",
       "      <th>BorrowerRate</th>\n",
       "      <th>LenderYield</th>\n",
       "      <th>Prosper_Rating</th>\n",
       "      <th>ProsperScore</th>\n",
       "      <th>Listing_Category</th>\n",
       "      <th>...</th>\n",
       "      <th>LP_ServiceFees</th>\n",
       "      <th>PercentFunded</th>\n",
       "      <th>creation_date</th>\n",
       "      <th>creation_time</th>\n",
       "      <th>MaxLenderYield</th>\n",
       "      <th>MaxBorrowerRate</th>\n",
       "      <th>MaxBorrowerAPR</th>\n",
       "      <th>MeanLenderYield</th>\n",
       "      <th>MeanBorrowerRate</th>\n",
       "      <th>MeanBorrowerAPR</th>\n",
       "    </tr>\n",
       "  </thead>\n",
       "  <tbody>\n",
       "    <tr>\n",
       "      <th>0</th>\n",
       "      <td>10273602499503308B223C1</td>\n",
       "      <td>2014-02-27 08:28:07.900000000</td>\n",
       "      <td>36</td>\n",
       "      <td>Current</td>\n",
       "      <td>0.12016</td>\n",
       "      <td>0.0920</td>\n",
       "      <td>0.0820</td>\n",
       "      <td>A</td>\n",
       "      <td>7.0</td>\n",
       "      <td>2</td>\n",
       "      <td>...</td>\n",
       "      <td>0.00</td>\n",
       "      <td>1.0</td>\n",
       "      <td>2014-02-27</td>\n",
       "      <td>08:28:07.900000</td>\n",
       "      <td>0.34</td>\n",
       "      <td>0.36</td>\n",
       "      <td>0.42395</td>\n",
       "      <td>0.186007</td>\n",
       "      <td>0.196011</td>\n",
       "      <td>0.226647</td>\n",
       "    </tr>\n",
       "    <tr>\n",
       "      <th>1</th>\n",
       "      <td>0EF5356002482715299901A</td>\n",
       "      <td>2012-10-22 11:02:35.010000000</td>\n",
       "      <td>36</td>\n",
       "      <td>Current</td>\n",
       "      <td>0.12528</td>\n",
       "      <td>0.0974</td>\n",
       "      <td>0.0874</td>\n",
       "      <td>A</td>\n",
       "      <td>9.0</td>\n",
       "      <td>16</td>\n",
       "      <td>...</td>\n",
       "      <td>-108.01</td>\n",
       "      <td>1.0</td>\n",
       "      <td>2012-10-22</td>\n",
       "      <td>11:02:35.010000</td>\n",
       "      <td>0.34</td>\n",
       "      <td>0.36</td>\n",
       "      <td>0.42395</td>\n",
       "      <td>0.186007</td>\n",
       "      <td>0.196011</td>\n",
       "      <td>0.226647</td>\n",
       "    </tr>\n",
       "    <tr>\n",
       "      <th>2</th>\n",
       "      <td>0F023589499656230C5E3E2</td>\n",
       "      <td>2013-09-14 18:38:39.097000000</td>\n",
       "      <td>36</td>\n",
       "      <td>Current</td>\n",
       "      <td>0.24614</td>\n",
       "      <td>0.2085</td>\n",
       "      <td>0.1985</td>\n",
       "      <td>D</td>\n",
       "      <td>4.0</td>\n",
       "      <td>2</td>\n",
       "      <td>...</td>\n",
       "      <td>-60.27</td>\n",
       "      <td>1.0</td>\n",
       "      <td>2013-09-14</td>\n",
       "      <td>18:38:39.097000</td>\n",
       "      <td>0.34</td>\n",
       "      <td>0.36</td>\n",
       "      <td>0.42395</td>\n",
       "      <td>0.186007</td>\n",
       "      <td>0.196011</td>\n",
       "      <td>0.226647</td>\n",
       "    </tr>\n",
       "    <tr>\n",
       "      <th>3</th>\n",
       "      <td>0F05359734824199381F61D</td>\n",
       "      <td>2013-12-14 08:26:37.093000000</td>\n",
       "      <td>60</td>\n",
       "      <td>Current</td>\n",
       "      <td>0.15425</td>\n",
       "      <td>0.1314</td>\n",
       "      <td>0.1214</td>\n",
       "      <td>B</td>\n",
       "      <td>10.0</td>\n",
       "      <td>1</td>\n",
       "      <td>...</td>\n",
       "      <td>-25.33</td>\n",
       "      <td>1.0</td>\n",
       "      <td>2013-12-14</td>\n",
       "      <td>08:26:37.093000</td>\n",
       "      <td>0.34</td>\n",
       "      <td>0.36</td>\n",
       "      <td>0.42395</td>\n",
       "      <td>0.186007</td>\n",
       "      <td>0.196011</td>\n",
       "      <td>0.226647</td>\n",
       "    </tr>\n",
       "    <tr>\n",
       "      <th>4</th>\n",
       "      <td>0F0A3576754255009D63151</td>\n",
       "      <td>2013-04-12 09:52:56.147000000</td>\n",
       "      <td>36</td>\n",
       "      <td>Current</td>\n",
       "      <td>0.31032</td>\n",
       "      <td>0.2712</td>\n",
       "      <td>0.2612</td>\n",
       "      <td>E</td>\n",
       "      <td>2.0</td>\n",
       "      <td>1</td>\n",
       "      <td>...</td>\n",
       "      <td>-22.95</td>\n",
       "      <td>1.0</td>\n",
       "      <td>2013-04-12</td>\n",
       "      <td>09:52:56.147000</td>\n",
       "      <td>0.34</td>\n",
       "      <td>0.36</td>\n",
       "      <td>0.42395</td>\n",
       "      <td>0.186007</td>\n",
       "      <td>0.196011</td>\n",
       "      <td>0.226647</td>\n",
       "    </tr>\n",
       "  </tbody>\n",
       "</table>\n",
       "<p>5 rows × 32 columns</p>\n",
       "</div>"
      ],
      "text/plain": [
       "                ListingKey            ListingCreationDate  Term LoanStatus  \\\n",
       "0  10273602499503308B223C1  2014-02-27 08:28:07.900000000    36    Current   \n",
       "1  0EF5356002482715299901A  2012-10-22 11:02:35.010000000    36    Current   \n",
       "2  0F023589499656230C5E3E2  2013-09-14 18:38:39.097000000    36    Current   \n",
       "3  0F05359734824199381F61D  2013-12-14 08:26:37.093000000    60    Current   \n",
       "4  0F0A3576754255009D63151  2013-04-12 09:52:56.147000000    36    Current   \n",
       "\n",
       "   BorrowerAPR  BorrowerRate  LenderYield Prosper_Rating  ProsperScore  \\\n",
       "0      0.12016        0.0920       0.0820              A           7.0   \n",
       "1      0.12528        0.0974       0.0874              A           9.0   \n",
       "2      0.24614        0.2085       0.1985              D           4.0   \n",
       "3      0.15425        0.1314       0.1214              B          10.0   \n",
       "4      0.31032        0.2712       0.2612              E           2.0   \n",
       "\n",
       "   Listing_Category  ... LP_ServiceFees PercentFunded  creation_date  \\\n",
       "0                 2  ...           0.00           1.0     2014-02-27   \n",
       "1                16  ...        -108.01           1.0     2012-10-22   \n",
       "2                 2  ...         -60.27           1.0     2013-09-14   \n",
       "3                 1  ...         -25.33           1.0     2013-12-14   \n",
       "4                 1  ...         -22.95           1.0     2013-04-12   \n",
       "\n",
       "     creation_time MaxLenderYield  MaxBorrowerRate  MaxBorrowerAPR  \\\n",
       "0  08:28:07.900000           0.34             0.36         0.42395   \n",
       "1  11:02:35.010000           0.34             0.36         0.42395   \n",
       "2  18:38:39.097000           0.34             0.36         0.42395   \n",
       "3  08:26:37.093000           0.34             0.36         0.42395   \n",
       "4  09:52:56.147000           0.34             0.36         0.42395   \n",
       "\n",
       "   MeanLenderYield  MeanBorrowerRate MeanBorrowerAPR  \n",
       "0         0.186007          0.196011        0.226647  \n",
       "1         0.186007          0.196011        0.226647  \n",
       "2         0.186007          0.196011        0.226647  \n",
       "3         0.186007          0.196011        0.226647  \n",
       "4         0.186007          0.196011        0.226647  \n",
       "\n",
       "[5 rows x 32 columns]"
      ]
     },
     "execution_count": 6,
     "metadata": {},
     "output_type": "execute_result"
    }
   ],
   "source": [
    "# load in the dataset into a pandas dataframe\n",
    "prosper=pd.read_csv('prosper.csv')\n",
    "\n",
    "#displaying first 5 rows\n",
    "prosper.head(5)"
   ]
  },
  {
   "cell_type": "markdown",
   "metadata": {
    "slideshow": {
     "slide_type": "notes"
    }
   },
   "source": [
    "> Note that the above cells have been set as \"Skip\"-type slides. That means\n",
    "that when the notebook is rendered as http slides, those cells won't show up."
   ]
  },
  {
   "cell_type": "markdown",
   "metadata": {
    "slideshow": {
     "slide_type": "slide"
    }
   },
   "source": [
    "## (Visualization 1)\n",
    ">### How prosper rated their borrowers from HR(High Risk) to AA(Excellence)\n",
    "- The distribution of rating across the entire borrowers population revealed that Most borrowers (27%) recieved average prosper rating\n",
    "- Only 6 percent of Borrowers recieved excellent rating"
   ]
  },
  {
   "cell_type": "code",
   "execution_count": 7,
   "metadata": {
    "slideshow": {
     "slide_type": "subslide"
    }
   },
   "outputs": [
    {
     "data": {
      "image/png": "[encoded data removed]",
      "text/plain": [
       "<Figure size 432x288 with 1 Axes>"
      ]
     },
     "metadata": {
      "needs_background": "light"
     },
     "output_type": "display_data"
    }
   ],
   "source": [
    "\n",
    "base_color=sb.color_palette()[0]\n",
    "\n",
    "#Change prosper ratings to categorical ordered set\n",
    "Prosper_Rating=['HR','E','D','C', 'B', 'A', 'AA']\n",
    "prosper_ratings = pd.api.types.CategoricalDtype(ordered = True,categories = Prosper_Rating)\n",
    "prosper['Prosper_Rating'] = prosper['Prosper_Rating'].astype(prosper_ratings);\n",
    "\n",
    "#Plot a bar chart of the variable\n",
    "sb.countplot(data=prosper,x='Prosper_Rating',color=base_color,);\n",
    "plt.title('Prosper Rating Distribution');\n",
    "\n",
    "n_prosper = prosper.shape[0]\n",
    "# Count the frequency of unique values in the `ProsperRating` column \n",
    "type_counts = prosper['Prosper_Rating'].value_counts()\n",
    "# add annotations\n",
    "i, labels = plt.xticks() # get the current tick locations and labels\n",
    "\n",
    "# loop through each pair of locations and labels\n",
    "for i, label in zip(i, labels):\n",
    "\n",
    "    # get the text property for the label to get the correct count\n",
    "    count = type_counts[label.get_text()]\n",
    "    pct_string = '{:0.0f}%'.format(100*count/n_prosper)\n",
    "\n",
    "    # print the annotation just below the top of the bar\n",
    "    plt.text(i,  count-1000, pct_string, ha = 'center', color = 'w');"
   ]
  },
  {
   "cell_type": "markdown",
   "metadata": {
    "collapsed": true,
    "slideshow": {
     "slide_type": "slide"
    }
   },
   "source": [
    "## (Visualization 2) Prosper rating Vs Loan amount\n",
    "\n",
    ">- The Higher their Prosper ratings, The higher the amount of loan the Borrower can borrow.\n",
    "- This is a depiction of the lenders' confidence"
   ]
  },
  {
   "cell_type": "code",
   "execution_count": 9,
   "metadata": {
    "slideshow": {
     "slide_type": "subslide"
    }
   },
   "outputs": [
    {
     "data": {
      "image/png": "[encoded data removed]",
      "text/plain": [
       "<Figure size 936x360 with 1 Axes>"
      ]
     },
     "metadata": {
      "needs_background": "light"
     },
     "output_type": "display_data"
    }
   ],
   "source": [
    "plt.figure(figsize=[13,5])\n",
    "plt.subplot(1,2,1)\n",
    "colors=sb.color_palette()[0]\n",
    "sb.boxplot(data=prosper, x='Prosper_Rating', y='LoanOriginalAmount', color=colors,);\n",
    "plt.title('Prosper Rating Vs Loan Original Amount');"
   ]
  },
  {
   "cell_type": "markdown",
   "metadata": {
    "slideshow": {
     "slide_type": "slide"
    }
   },
   "source": [
    "## (Visualization 3) Prosper Score Vs Borrower Rate on Home ownership\n",
    "\n",
    "- Home ownership (collateral security) has no defined effect on the rate at which borrowers got their loans\n",
    "- Borrowers with Lower ratings got Higher loan interest rates\n",
    "- Theres a remarkable negative correlation between Borrower rate and Prosper score"
   ]
  },
  {
   "cell_type": "code",
   "execution_count": 12,
   "metadata": {
    "slideshow": {
     "slide_type": "subslide"
    }
   },
   "outputs": [
    {
     "data": {
      "image/png": "[encoded data removed]",
      "text/plain": [
       "<Figure size 432x288 with 1 Axes>"
      ]
     },
     "metadata": {
      "needs_background": "light"
     },
     "output_type": "display_data"
    }
   ],
   "source": [
    "sb.pointplot(data = prosper, x = 'ProsperScore', y = 'BorrowerRate', hue = 'IsBorrowerHomeowner', ci=None, linestyles = '')\n",
    "plt.title('Prosper Score Vs Borrower Rate');"
   ]
  },
  {
   "cell_type": "code",
   "execution_count": 1,
   "metadata": {
    "slideshow": {
     "slide_type": "skip"
    }
   },
   "outputs": [
    {
     "name": "stderr",
     "output_type": "stream",
     "text": [
      "[NbConvertApp] Converting notebook Part_II_presentation.ipynb to slides\n",
      "[NbConvertApp] Writing 635244 bytes to Part_II_presentation.slides.html\n",
      "[NbConvertApp] Redirecting reveal.js requests to https://cdnjs.cloudflare.com/ajax/libs/reveal.js/3.5.0\n",
      "Traceback (most recent call last):\n",
      "  File \"C:\\Users\\THIS PC\\anaconda3\\Scripts\\jupyter-nbconvert-script.py\", line 10, in <module>\n",
      "    sys.exit(main())\n",
      "  File \"C:\\Users\\THIS PC\\anaconda3\\lib\\site-packages\\jupyter_core\\application.py\", line 264, in launch_instance\n",
      "    return super(JupyterApp, cls).launch_instance(argv=argv, **kwargs)\n",
      "  File \"C:\\Users\\THIS PC\\anaconda3\\lib\\site-packages\\traitlets\\config\\application.py\", line 846, in launch_instance\n",
      "    app.start()\n",
      "  File \"C:\\Users\\THIS PC\\anaconda3\\lib\\site-packages\\nbconvert\\nbconvertapp.py\", line 369, in start\n",
      "    self.convert_notebooks()\n",
      "  File \"C:\\Users\\THIS PC\\anaconda3\\lib\\site-packages\\nbconvert\\nbconvertapp.py\", line 541, in convert_notebooks\n",
      "    self.convert_single_notebook(notebook_filename)\n",
      "  File \"C:\\Users\\THIS PC\\anaconda3\\lib\\site-packages\\nbconvert\\nbconvertapp.py\", line 508, in convert_single_notebook\n",
      "    self.postprocess_single_notebook(write_results)\n",
      "  File \"C:\\Users\\THIS PC\\anaconda3\\lib\\site-packages\\nbconvert\\nbconvertapp.py\", line 480, in postprocess_single_notebook\n",
      "    self.postprocessor(write_results)\n",
      "  File \"C:\\Users\\THIS PC\\anaconda3\\lib\\site-packages\\nbconvert\\postprocessors\\base.py\", line 28, in __call__\n",
      "    self.postprocess(input)\n",
      "  File \"C:\\Users\\THIS PC\\anaconda3\\lib\\site-packages\\nbconvert\\postprocessors\\serve.py\", line 90, in postprocess\n",
      "    http_server.listen(self.port, address=self.ip)\n",
      "  File \"C:\\Users\\THIS PC\\anaconda3\\lib\\site-packages\\tornado\\tcpserver.py\", line 151, in listen\n",
      "    sockets = bind_sockets(port, address=address)\n",
      "  File \"C:\\Users\\THIS PC\\anaconda3\\lib\\site-packages\\tornado\\netutil.py\", line 161, in bind_sockets\n",
      "    sock.bind(sockaddr)\n",
      "OSError: [WinError 10048] Only one usage of each socket address (protocol/network address/port) is normally permitted\n"
     ]
    }
   ],
   "source": [
    "!jupyter nbconvert Part_II_presentation.ipynb --to slides --post serve --no-input --no-prompt"
   ]
  },
  {
   "cell_type": "code",
   "execution_count": null,
   "metadata": {},
   "outputs": [],
   "source": []
  }
 ],
 "metadata": {
  "celltoolbar": "Slideshow",
  "kernelspec": {
   "display_name": "Python 3.9.12 ('base')",
   "language": "python",
   "name": "python3"
  },
  "language_info": {
   "codemirror_mode": {
    "name": "ipython",
    "version": 3
   },
   "file_extension": ".py",
   "mimetype": "text/x-python",
   "name": "python",
   "nbconvert_exporter": "python",
   "pygments_lexer": "ipython3",
   "version": "3.9.12"
  },
  "vscode": {
   "interpreter": {
    "hash": "615eb80aacaac0c474a6cb4606dd2346dd78296bd10d9e6b641369cd4af3ca4b"
   }
  }
 },
 "nbformat": 4,
 "nbformat_minor": 2
}
